{
 "cells": [
  {
   "cell_type": "markdown",
   "id": "super-delivery",
   "metadata": {},
   "source": [
    "# Autotagging\n",
    "\n",
    "This notebook is used to assign tags to films based on conditions defined in a JSON file."
   ]
  },
  {
   "cell_type": "code",
   "execution_count": 1,
   "id": "rapid-appreciation",
   "metadata": {},
   "outputs": [],
   "source": [
    "import bmb\n",
    "from bmb.source.webscraping import read_imdb_list\n",
    "from pyutil import JSONDict"
   ]
  },
  {
   "cell_type": "markdown",
   "id": "imported-township",
   "metadata": {},
   "source": [
    "## Reading the Indicators Datafile"
   ]
  },
  {
   "cell_type": "code",
   "execution_count": 2,
   "id": "chubby-maldives",
   "metadata": {},
   "outputs": [],
   "source": [
    "FILE = bmb.RESOURCE_DIR / \"Tag Indicators.json\"\n",
    "assert FILE.exists()\n",
    "tag_indicators = JSONDict( FILE)"
   ]
  },
  {
   "cell_type": "markdown",
   "id": "contemporary-louisiana",
   "metadata": {},
   "source": [
    "## Tagging Loop\n",
    "\n",
    "_Note: The warnings below are expected - one of the lists contains two TV shows, which causes the webscraper to throw warnings but otherwise ignore them._"
   ]
  },
  {
   "cell_type": "code",
   "execution_count": 3,
   "id": "roman-testament",
   "metadata": {},
   "outputs": [
    {
     "name": "stdout",
     "output_type": "stream",
     "text": [
      "horror anthology\n",
      " * Source IMDb Lists:\n",
      "   - ls003134651\n"
     ]
    },
    {
     "name": "stderr",
     "output_type": "stream",
     "text": [
      "C:\\Users\\jstau\\Documents\\GitHub\\bmb\\source\\webscraping\\imdb_list.py:28: UserWarning: Unable to Interpret: 29. Tales from the Darkside (1983–1988)\n",
      "  warn( f\"Unable to Interpret: {list_item.text}\")\n",
      "C:\\Users\\jstau\\Documents\\GitHub\\bmb\\source\\webscraping\\imdb_list.py:28: UserWarning: Unable to Interpret: 30. Two Twisted (2005–2006)\n",
      "  warn( f\"Unable to Interpret: {list_item.text}\")\n"
     ]
    },
    {
     "name": "stdout",
     "output_type": "stream",
     "text": [
      "\n",
      "slasher\n",
      " * Source IMDb Lists:\n",
      "   - ls057496134\n",
      "\n",
      "comedy-horror\n",
      " * Genre Group:\n",
      "   - Comedy\n",
      "   - Horror\n",
      "\n"
     ]
    }
   ],
   "source": [
    "db = bmb.FilmDB()\n",
    "\n",
    "for tag, indicators in tag_indicators.items():\n",
    "    print( tag)\n",
    "    \n",
    "    if 'imdb list' in indicators:\n",
    "        print( \" * Source IMDb Lists:\")\n",
    "        for list in indicators[ 'imdb list']:\n",
    "            print( f\"   - {list}\")\n",
    "            for title, year in read_imdb_list( list):\n",
    "                db.tag(\n",
    "                    db.Film( title, year, lookup=True),\n",
    "                    db.Tag( tag ))\n",
    "                \n",
    "            \n",
    "    if 'genres' in indicators:\n",
    "        print( \" * Genre Group:\")\n",
    "        for genre in indicators[ 'genres']:\n",
    "            print( f\"   - {genre}\")\n",
    "        \n",
    "        for film_id in db.filmset( genre=tuple( indicators[ 'genres'])):\n",
    "            db.tag(film_id, db.Tag( tag))\n",
    "\n",
    "    print()"
   ]
  }
 ],
 "metadata": {
  "kernelspec": {
   "display_name": "Python 3",
   "language": "python",
   "name": "python3"
  },
  "language_info": {
   "codemirror_mode": {
    "name": "ipython",
    "version": 3
   },
   "file_extension": ".py",
   "mimetype": "text/x-python",
   "name": "python",
   "nbconvert_exporter": "python",
   "pygments_lexer": "ipython3",
   "version": "3.9.1"
  }
 },
 "nbformat": 4,
 "nbformat_minor": 5
}
