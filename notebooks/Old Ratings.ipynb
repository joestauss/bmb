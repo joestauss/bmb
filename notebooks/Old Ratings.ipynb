{
 "cells": [
  {
   "cell_type": "markdown",
   "id": "digital-motor",
   "metadata": {},
   "source": [
    "# Old Rating\n",
    "\n",
    "A previous version of this project was focused on delivering ratings as rapidly as possible.  The result was a high number of low-quality ratings that I will be using as a rough guide early on."
   ]
  },
  {
   "cell_type": "code",
   "execution_count": 1,
   "id": "seeing-pharmacology",
   "metadata": {},
   "outputs": [],
   "source": [
    "from bmb                        import ProcessingDB\n",
    "from bmb.source.standard_import import *\n",
    "from tqdm.notebook              import tqdm\n",
    "from matplotlib                 import pyplot       as plt\n",
    "import numpy as np\n",
    "processing = ProcessingDB()"
   ]
  },
  {
   "cell_type": "markdown",
   "id": "printable-stanley",
   "metadata": {},
   "source": [
    "## Rating 4 - Already Seen\n",
    "\n",
    "The easiest rating to deal with is **4 - Movies I've Already Seen**.  Each film with this rating should have its data downloaded and be tagged for the data warehouse."
   ]
  },
  {
   "cell_type": "code",
   "execution_count": 13,
   "id": "enclosed-services",
   "metadata": {},
   "outputs": [],
   "source": [
    "already_seen = processing.select( \"title\", \"year\", \"OldRating\", rating=4)"
   ]
  },
  {
   "cell_type": "code",
   "execution_count": 14,
   "id": "middle-exposure",
   "metadata": {},
   "outputs": [
    {
     "data": {
      "application/vnd.jupyter.widget-view+json": {
       "model_id": "144a9e1c61ee43b8bba1751d3167e34d",
       "version_major": 2,
       "version_minor": 0
      },
      "text/plain": [
       "  0%|          | 0/475 [00:00<?, ?it/s]"
      ]
     },
     "metadata": {},
     "output_type": "display_data"
    }
   ],
   "source": [
    "for title, year in tqdm(already_seen):\n",
    "    film_id = processing.Film( title, year)\n",
    "    processing.lookup_film_info( film_id)\n",
    "    \n",
    "    if processing.select_one( 'status', 'Film', id=film_id) == processing.Status( 'basic info'):\n",
    "        processing.set( \"UPDATE Film SET status=? WHERE id=?\", processing.Status( 'warehouse'), film_id)"
   ]
  },
  {
   "cell_type": "markdown",
   "id": "short-technology",
   "metadata": {},
   "source": [
    "### Visualization\n",
    "\n",
    "Some of the films will not be marked for the warehouse just yet - some should have had a \"foreign language hold\" placed on them.  Let's create a pie chart to see how the import did overall.\n",
    "\n",
    "The Python SQLite `WHERE ... IN` clause is a little weird, so I'm taking a more slow (but clear) one-item-at-a-time approach."
   ]
  },
  {
   "cell_type": "code",
   "execution_count": 15,
   "id": "associate-indianapolis",
   "metadata": {},
   "outputs": [],
   "source": [
    "def status_count( title_year_tuples):\n",
    "    status_count = defaultdict( lambda: 0)\n",
    "    for film_id in (processing.Film( *ty) for ty in title_year_tuples):\n",
    "        status_count[\n",
    "            processing.select_one(\n",
    "                'text',\n",
    "                'Status',\n",
    "                id=processing.select_one( 'status', 'Film', id=film_id)\n",
    "            )\n",
    "        ] += 1\n",
    "    return status_count"
   ]
  },
  {
   "cell_type": "code",
   "execution_count": 16,
   "id": "suspected-fitness",
   "metadata": {},
   "outputs": [
    {
     "data": {
      "image/png": "[encoded data removed]",
      "text/plain": [
       "<Figure size 432x288 with 1 Axes>"
      ]
     },
     "metadata": {},
     "output_type": "display_data"
    },
    {
     "name": "stdout",
     "output_type": "stream",
     "text": [
      "warehouse - 462\n",
      "foreign language hold - IT - 4\n",
      "foreign language hold - other - 9\n"
     ]
    }
   ],
   "source": [
    "already_seen_status = status_count(already_seen).items()\n",
    "\n",
    "labels, values = zip( *already_seen_status)\n",
    "plt.pie( values, labels=labels)\n",
    "plt.show()\n",
    "\n",
    "print( \"\\n\".join((f\"{label} - {value}\" for label, value in already_seen_status )))"
   ]
  },
  {
   "cell_type": "markdown",
   "id": "powerful-loading",
   "metadata": {},
   "source": [
    "# Rating 1 - Reject\n",
    "\n",
    "Another rating which should be a strong signal is **1 - Manually Rejected**.  The old ratings are not high-quality enought to be trusted on their own, but they should indicate some possibilities."
   ]
  },
  {
   "cell_type": "code",
   "execution_count": 6,
   "id": "blond-david",
   "metadata": {},
   "outputs": [
    {
     "name": "stdout",
     "output_type": "stream",
     "text": [
      "3027 films were rejected\n"
     ]
    }
   ],
   "source": [
    "rejected = processing.select( \"title\", \"year\", \"OldRating\", rating=1)\n",
    "print( f\"{len( rejected)} films were rejected\")"
   ]
  },
  {
   "cell_type": "markdown",
   "id": "relative-preliminary",
   "metadata": {},
   "source": [
    "In order to look for similarities among these films, we need some basic information:"
   ]
  },
  {
   "cell_type": "code",
   "execution_count": 7,
   "id": "perfect-hormone",
   "metadata": {},
   "outputs": [
    {
     "data": {
      "application/vnd.jupyter.widget-view+json": {
       "model_id": "7a1d7a9f0d674bf68821b77445c1302a",
       "version_major": 2,
       "version_minor": 0
      },
      "text/plain": [
       "  0%|          | 0/3027 [00:00<?, ?it/s]"
      ]
     },
     "metadata": {},
     "output_type": "display_data"
    }
   ],
   "source": [
    "for title, year in tqdm(rejected):\n",
    "    film_id = processing.Film( title, year)\n",
    "    processing.lookup_film_info( film_id)"
   ]
  },
  {
   "cell_type": "code",
   "execution_count": 8,
   "id": "original-cruise",
   "metadata": {},
   "outputs": [
    {
     "data": {
      "image/png": "[encoded data removed]",
      "text/plain": [
       "<Figure size 432x288 with 1 Axes>"
      ]
     },
     "metadata": {},
     "output_type": "display_data"
    },
    {
     "name": "stdout",
     "output_type": "stream",
     "text": [
      "warehouse - 2549\n",
      "foreign language hold - other - 435\n",
      "TMDb search failure - 17\n",
      "foreign language hold - IT - 26\n"
     ]
    }
   ],
   "source": [
    "labels, values = zip( *status_count(rejected).items())\n",
    "plt.pie( values, labels=labels)\n",
    "plt.show()\n",
    "\n",
    "print( \"\\n\".join((f\"{label} - {value}\" for label, value in zip( labels, values) )))"
   ]
  },
  {
   "cell_type": "markdown",
   "id": "abroad-reproduction",
   "metadata": {},
   "source": [
    "One way to use this data without putting too much trust in it is to look for genre combinations that I have rejected often.  This should indicate which automated filters I should begin to develop.\n",
    "\n",
    "A heatmap will be used to see which genre pairs were most often rejected."
   ]
  },
  {
   "cell_type": "code",
   "execution_count": 9,
   "id": "fifteen-container",
   "metadata": {},
   "outputs": [],
   "source": [
    "FILM_ID_TO_GENRES = \"\"\"\n",
    "SELECT g.text \n",
    "FROM FilmGenre fg JOIN Genre g ON fg.genre = g.id\n",
    "WHERE fg.film=?\n",
    "\"\"\"\n",
    "\n",
    "def genre_pairs_count( titleyears):\n",
    "    film_ids = *( processing.Film( *ty) for ty in titleyears),\n",
    "    \n",
    "    genre_combinations = [ \n",
    "        processing.get( FILM_ID_TO_GENRES, film_id) \n",
    "        for film_id in film_ids ]\n",
    "    \n",
    "    pair_count = defaultdict( lambda: defaultdict( lambda: 0))\n",
    "    for genres in genre_combinations:\n",
    "        if len( genres) == 1:\n",
    "            genre = genres[0]\n",
    "            pair_count[ genre][ genre] += 1\n",
    "\n",
    "        else:\n",
    "            for g, genre in enumerate( genres):\n",
    "                for i in range( g):\n",
    "                    pair_count[ genres[i]][ genre] += 1\n",
    "                    pair_count[ genre][ genres[i]] += 1\n",
    "    return pair_count\n",
    "\n",
    "                    \n",
    "pair_count    = genre_pairs_count( rejected)                    \n",
    "genre_order    = sorted( pair_count.keys())\n",
    "heatmap_values = [\n",
    "    [pair_count[ inner_genre][ outer_genre]\n",
    "        for inner_genre in genre_order ]\n",
    "        for outer_genre in genre_order\n",
    "]"
   ]
  },
  {
   "cell_type": "code",
   "execution_count": 10,
   "id": "blond-least",
   "metadata": {},
   "outputs": [
    {
     "data": {
      "image/png": "[encoded data removed]",
      "text/plain": [
       "<Figure size 432x288 with 1 Axes>"
      ]
     },
     "metadata": {
      "needs_background": "light"
     },
     "output_type": "display_data"
    }
   ],
   "source": [
    "plt.xticks(ticks=np.arange( len( genre_order)), labels=genre_order, rotation= 80)\n",
    "plt.yticks(ticks=np.arange( len( genre_order)), labels=genre_order)\n",
    "\n",
    "plt.imshow( heatmap_values)\n",
    "plt.show()"
   ]
  },
  {
   "cell_type": "markdown",
   "id": "polyphonic-relationship",
   "metadata": {},
   "source": [
    "_Brighter squres indicaed more commonly-rejected combinations._\n",
    "\n",
    "This heatmap both indicates some avenues for further exploration and shows the limitations of this method.\n",
    "* __Look into building filters for:__ Family, Drama, Thriller.\n",
    "* _The previous version of this project served a lot of \\<STREAMER\\> Original Series_, including a large proportion of documentaries on stuff that I don't care about.  __The Documentary Bright Spot indicates a data artifact more than a true preference against the genre.__\n",
    "* _We need additional information about the relative frequency of each combination._ I rejected several Action-Adventure films, but very few pure-action or pure-adventure films.  This probably does indicates that the pure genres are very uncommon, rather than an affinity for them.  __Action Item: find the average genre and decade composition across the entire database so there is a point of comparison for subsets of films._\n"
   ]
  }
 ],
 "metadata": {
  "kernelspec": {
   "display_name": "Python 3",
   "language": "python",
   "name": "python3"
  },
  "language_info": {
   "codemirror_mode": {
    "name": "ipython",
    "version": 3
   },
   "file_extension": ".py",
   "mimetype": "text/x-python",
   "name": "python",
   "nbconvert_exporter": "python",
   "pygments_lexer": "ipython3",
   "version": "3.9.1"
  }
 },
 "nbformat": 4,
 "nbformat_minor": 5
}
