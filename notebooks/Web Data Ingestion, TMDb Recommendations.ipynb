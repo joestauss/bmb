{
 "cells": [
  {
   "cell_type": "markdown",
   "id": "danish-turkey",
   "metadata": {},
   "source": [
    "# Initialize\n",
    "\n",
    "Includes the `add_recommendations` helper function, which queries TMDb for recommendations and adds the results to the Ingestion Database."
   ]
  },
  {
   "cell_type": "code",
   "execution_count": 1,
   "id": "faced-julian",
   "metadata": {},
   "outputs": [],
   "source": [
    "from bmb import IngestionDB, ProcessingDB\n",
    "import random\n",
    "from bmb.source.webscraping.tmdb_access import get_tmdb_recommendations\n",
    "from tqdm.notebook import tqdm\n",
    "\n",
    "processing = ProcessingDB()\n",
    "ingestion  = IngestionDB()\n",
    "\n",
    "def add_recommendations( title, year):\n",
    "    base_film_id = ingestion.id( \"TMDbFilm\", title, year, insert_new=True)\n",
    "    if not ingestion.select_one( 'rec_search_date', \"TMDbFilm\", id=base_film_id):\n",
    "        base_film_id    = ingestion.id( \"TMDbFilm\", title, year, insert_new=True)\n",
    "        recommendations = get_tmdb_recommendations( title, year)\n",
    "        for rec_title, rec_year in recommendations:\n",
    "            recommendation_id = ingestion.id( \"TMDbFilm\", rec_title, rec_year, insert_new=True)\n",
    "            ingestion.insert( \"TMDbRecommendation\", from_film=base_film_id, to_film=recommendation_id)\n",
    "        ingestion.set( \"UPDATE TMDbFilm SET rec_search_date=? WHERE id=?\", ingestion.date_str, base_film_id)\n",
    "        return recommendations\n",
    "    return None"
   ]
  },
  {
   "cell_type": "markdown",
   "id": "maritime-chick",
   "metadata": {},
   "source": [
    "# Acquire Recommendations\n",
    "\n",
    "Just a loop to call `add_recommendations` repeatedly."
   ]
  },
  {
   "cell_type": "code",
   "execution_count": 2,
   "id": "medieval-intention",
   "metadata": {},
   "outputs": [
    {
     "data": {
      "application/vnd.jupyter.widget-view+json": {
       "model_id": "8c9c80812d5c4082bdce35996689af85",
       "version_major": 2,
       "version_minor": 0
      },
      "text/plain": [
       "  0%|          | 0/21260 [00:00<?, ?it/s]"
      ]
     },
     "metadata": {},
     "output_type": "display_data"
    },
    {
     "name": "stdout",
     "output_type": "stream",
     "text": [
      "Found 2 recommendations for Crack: Cocaine, Corruption & Conspiracy (2021)\n",
      "Found 19 recommendations for Creating The Queen's Gambit (2021)\n",
      "Found 6 recommendations for Dave Chappelle: The Closer (2021)\n",
      "Found 1 recommendations for Diana: The Musical (2021)\n",
      "Found 3 recommendations for Escape The Undertaker (2021)\n",
      "Found 21 recommendations for Fear Street: Part One - 1994 (2021)\n",
      "Found 21 recommendations for Fear Street: Part Two - 1978 (2021)\n",
      "Found 1 recommendations for My Heroes Were Cowboys (2021)\n",
      "Found 14 recommendations for My Little Pony: A New Generation (2021)\n",
      "Found 2 recommendations for Nate Bargatze: The Greatest Average American (2021)\n",
      "Found 21 recommendations for One (2021)\n",
      "Found 1 recommendations for Antidote (2021)\n",
      "Found 10 recommendations for Bingo Hell (2021)\n",
      "Found 21 recommendations for Black as Night (2021)\n",
      "Found 2 recommendations for Dawn of the Beast (2021)\n"
     ]
    }
   ],
   "source": [
    "titleyears = processing.get( \"\"\"\n",
    "SELECT title, year\n",
    "FROM Film\n",
    "WHERE \n",
    "status=1\n",
    "ORDER BY year ASC\n",
    "\"\"\")\n",
    "\n",
    "for title, year in tqdm(titleyears):\n",
    "    recs = add_recommendations( title, year)\n",
    "    if recs:\n",
    "        print( f\"Found {len( recs)} recommendations for {title} ({year})\")"
   ]
  },
  {
   "cell_type": "markdown",
   "id": "lucky-encyclopedia",
   "metadata": {},
   "source": [
    "# Transfer Movies to Processing Database\n",
    "\n",
    "This opeation takes a while, since there over 24,000 films.  A lot of it is wasted effored, since most of the films have been previously transferred to the Processing Database, so in a future iteration of the project, I'll have a `transferredToProcessing` flag or something similar to speed this up."
   ]
  },
  {
   "cell_type": "code",
   "execution_count": 3,
   "id": "marine-resistance",
   "metadata": {},
   "outputs": [
    {
     "name": "stdout",
     "output_type": "stream",
     "text": [
      "26146 movies from TMDb recommendations\n",
      "Transferring to Processing Database...\n"
     ]
    },
    {
     "data": {
      "application/vnd.jupyter.widget-view+json": {
       "model_id": "5f6dba7653c247db933a1efcbb368feb",
       "version_major": 2,
       "version_minor": 0
      },
      "text/plain": [
       "  0%|          | 0/26146 [00:00<?, ?it/s]"
      ]
     },
     "metadata": {},
     "output_type": "display_data"
    }
   ],
   "source": [
    "tmdb_movies = ingestion.select( 'title', 'year', 'TMDbFilm')\n",
    "print( f\"{len(tmdb_movies)} movies from TMDb recommendations\")\n",
    "print( f\"Transferring to Processing Database...\")\n",
    "for title, year in tqdm( tmdb_movies):\n",
    "    processing.Film( title, year)"
   ]
  },
  {
   "cell_type": "markdown",
   "id": "variable-professor",
   "metadata": {},
   "source": [
    "# Load Info for New Films\n",
    "\n",
    "`unverified` will contain all films the the Processing Database for which there has not been a basic information search."
   ]
  },
  {
   "cell_type": "code",
   "execution_count": 4,
   "id": "conscious-opening",
   "metadata": {},
   "outputs": [
    {
     "name": "stdout",
     "output_type": "stream",
     "text": [
      "103 films not already in database\n",
      "Looking up info...\n"
     ]
    },
    {
     "data": {
      "application/vnd.jupyter.widget-view+json": {
       "model_id": "1601ad4cd80045bba424d6d81a2fbe81",
       "version_major": 2,
       "version_minor": 0
      },
      "text/plain": [
       "  0%|          | 0/103 [00:00<?, ?it/s]"
      ]
     },
     "metadata": {},
     "output_type": "display_data"
    }
   ],
   "source": [
    "unverified = processing.unverified_films\n",
    "print( f\"{len(unverified)} films not already in database\")\n",
    "print( \"Looking up info...\")\n",
    "for film_id in tqdm( unverified):\n",
    "    processing.lookup_film_info( film_id)"
   ]
  },
  {
   "cell_type": "markdown",
   "id": "sporting-membership",
   "metadata": {},
   "source": [
    "# Pie Chart: How'd it go?\n",
    "\n",
    "Let's visualize the status of the films that were just added to the database.  There are several possible outcomes to each TMDb search:\n",
    "* `basic info` is what we hope to see for the majority of films, and indicates that we now have basic information about the film.\n",
    "* `TMDb search failure` can occur if the title/ year combination represents an artistic work other than a film, if the release year is wrong, etc.\n",
    "* `foreign language hold` is a status assigned to films that were not originally released in English.  Foreign cinema will require special filters (e.g. the rules I use to find Chinese Martial Arts films would not necessarily transfer to English-language Martial Arts films, which came later and had a different production structure), so I'm freezing these films for now."
   ]
  },
  {
   "cell_type": "code",
   "execution_count": 5,
   "id": "genetic-optimization",
   "metadata": {},
   "outputs": [
    {
     "data": {
      "image/png": "[encoded data removed]",
      "text/plain": [
       "<Figure size 432x288 with 1 Axes>"
      ]
     },
     "metadata": {},
     "output_type": "display_data"
    }
   ],
   "source": [
    "from matplotlib import pyplot as plt\n",
    "\n",
    "QUERY = f\"\"\"\n",
    "SELECT s.text, COUNT( f.id) as cnt\n",
    "FROM Film f JOIN Status s ON f.status=s.id\n",
    "WHERE f.id IN ({','.join('?'*len(unverified))})\n",
    "GROUP BY f.status\n",
    "ORDER BY cnt DESC\n",
    "\"\"\"\n",
    "\n",
    "labels, values = zip( *processing.get( QUERY, *unverified))\n",
    "plt.pie( values, labels=labels)\n",
    "plt.show()"
   ]
  }
 ],
 "metadata": {
  "kernelspec": {
   "display_name": "Python 3",
   "language": "python",
   "name": "python3"
  },
  "language_info": {
   "codemirror_mode": {
    "name": "ipython",
    "version": 3
   },
   "file_extension": ".py",
   "mimetype": "text/x-python",
   "name": "python",
   "nbconvert_exporter": "python",
   "pygments_lexer": "ipython3",
   "version": "3.9.1"
  }
 },
 "nbformat": 4,
 "nbformat_minor": 5
}
