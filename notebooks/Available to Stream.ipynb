{
 "cells": [
  {
   "cell_type": "code",
   "execution_count": 1,
   "id": "liable-clause",
   "metadata": {},
   "outputs": [],
   "source": [
    "import bmb\n",
    "db = bmb.FilmDB()"
   ]
  },
  {
   "cell_type": "code",
   "execution_count": 2,
   "id": "stuffed-blowing",
   "metadata": {},
   "outputs": [],
   "source": [
    "# db.update_streaming_content( 'hulu'    )\n",
    "# db.update_streaming_content( 'netflix', ymax=2000 )\n",
    "# print( 'a')\n",
    "# db.update_streaming_content( 'netflix', ymin=2000, ymax=2010 )\n",
    "# print( 'b')\n",
    "# db.update_streaming_content( 'netflix', ymin=2010, ymax=2016 )\n",
    "# print( 'a')\n",
    "# db.update_streaming_content( 'netflix', ymin=2016, ymax=2018)\n",
    "# print( 'a')\n",
    "# db.update_streaming_content( 'netflix', ymin=2018, ymax=2020)\n",
    "# print( 'b')\n",
    "# db.update_streaming_content( 'netflix', ymin=2020)\n",
    "# print( 'c')\n",
    "# db.update_streaming_content( 'amazon', ymax=1990)\n",
    "# print( 'e')\n",
    "# db.update_streaming_content( 'amazon', ymin=1990, ymax=2005)  \n",
    "# print( 'f')\n",
    "# db.update_streaming_content( 'amazon', ymin=2005, ymax=2012)  \n",
    "# print( 'g')\n",
    "# db.update_streaming_content( 'amazon', ymin=2012, ymax=2016)  \n",
    "# print( 'h')\n",
    "# db.update_streaming_content( 'amazon', ymin=2016, ymax=2018)  \n",
    "# print( 'i')\n",
    "# db.update_streaming_content( 'amazon', ymin=2018, ymax=2019) \n",
    "# print( 'j')\n",
    "# db.update_streaming_content( 'amazon', ymin=2020) \n",
    "# print( 'j')"
   ]
  },
  {
   "cell_type": "code",
   "execution_count": 3,
   "id": "hundred-spank",
   "metadata": {},
   "outputs": [],
   "source": [
    "import time\n",
    "from bmb.source.util.exceptions import IdentificationError\n",
    "time.sleep( 1)"
   ]
  },
  {
   "cell_type": "code",
   "execution_count": 13,
   "id": "sitting-pantyhose",
   "metadata": {
    "scrolled": false
   },
   "outputs": [
    {
     "data": {
      "application/vnd.jupyter.widget-view+json": {
       "model_id": "21f9e7268bc740db9ff894120acc2044",
       "version_major": 2,
       "version_minor": 0
      },
      "text/plain": [
       "  0%|          | 0/655 [00:00<?, ?it/s]"
      ]
     },
     "metadata": {},
     "output_type": "display_data"
    }
   ],
   "source": [
    "db.identify_new_JustWatchURLs( VERBOSE='jupyter')"
   ]
  },
  {
   "cell_type": "code",
   "execution_count": 15,
   "id": "beneficial-thompson",
   "metadata": {},
   "outputs": [
    {
     "name": "stdout",
     "output_type": "stream",
     "text": [
      "11284 films are streamable\n"
     ]
    }
   ],
   "source": [
    "print( f\"{len( db.filmset( streamable=True))} films are streamable\")"
   ]
  }
 ],
 "metadata": {
  "kernelspec": {
   "display_name": "Python 3",
   "language": "python",
   "name": "python3"
  },
  "language_info": {
   "codemirror_mode": {
    "name": "ipython",
    "version": 3
   },
   "file_extension": ".py",
   "mimetype": "text/x-python",
   "name": "python",
   "nbconvert_exporter": "python",
   "pygments_lexer": "ipython3",
   "version": "3.9.1"
  }
 },
 "nbformat": 4,
 "nbformat_minor": 5
}
