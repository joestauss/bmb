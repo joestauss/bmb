{
 "cells": [
  {
   "cell_type": "code",
   "execution_count": 1,
   "id": "second-consortium",
   "metadata": {},
   "outputs": [],
   "source": [
    "import bmb\n",
    "db = bmb.FilmDB()"
   ]
  },
  {
   "cell_type": "markdown",
   "id": "public-making",
   "metadata": {},
   "source": [
    "## Tag Monitor"
   ]
  },
  {
   "cell_type": "code",
   "execution_count": 16,
   "id": "operational-diameter",
   "metadata": {},
   "outputs": [],
   "source": [
    "TAG = 'slasher'\n",
    "assert db.select_one( '*', 'Tag', text=TAG)\n",
    "\n",
    "tagged     = db.filmset( tag=TAG)\n",
    "streamable = db.filmset( tag=TAG, streamable=True)\n",
    "seen       = db.filmset( tag=(TAG, 'seen'     ))\n",
    "watchlist  = db.filmset( tag=(TAG, 'watchlist'))\n",
    "reject     = db.filmset( tag=(TAG, 'reject'   ))"
   ]
  },
  {
   "cell_type": "code",
   "execution_count": 17,
   "id": "seventh-barrier",
   "metadata": {
    "scrolled": true
   },
   "outputs": [
    {
     "name": "stdout",
     "output_type": "stream",
     "text": [
      "94 films are tagged as SLASHER\n",
      "7 already seen\n",
      "1 in the watchlist\n",
      "5 rejected\n",
      "13 available to stream\n"
     ]
    }
   ],
   "source": [
    "prompt = \"\\n\".join([\n",
    "    f\"{len( tagged)    } films are tagged as {TAG.upper()}\",\n",
    "    f\"{len( seen)      } already seen\",\n",
    "    f\"{len( watchlist) } in the watchlist\",\n",
    "    f\"{len( reject)    } rejected\",\n",
    "    f\"{len( streamable)} available to stream\",\n",
    "])\n",
    "print( prompt)"
   ]
  },
  {
   "cell_type": "code",
   "execution_count": 19,
   "id": "friendly-resource",
   "metadata": {},
   "outputs": [
    {
     "name": "stdout",
     "output_type": "stream",
     "text": [
      "FILM #5026: April Fool's Day (1986) \n",
      "------------------------------------\n",
      "   Horror / Mystery\n",
      "   A group of eight college friends gather together at an island mansion belonging to heiress Muffy St. John to celebrate their final year of school. They soon discover that each has a hidden secret from their past which is revealed, and soon after, they turn up dead.\n",
      "   [ SLASHER ]\n",
      "\n",
      "FILM #9956: Identity (2003) \n",
      "----------------------------\n",
      "   Mystery / Thriller\n",
      "   Complete strangers stranded at a remote desert motel during a raging storm soon find themselves the target of a deranged murderer. As their numbers thin out, the travelers begin to turn on each other, as each tries to figure out who the killer is.\n",
      "   [ SLASHER ]\n",
      "\n",
      "FILM #10855: Motel Hell (1980) \n",
      "-------------------------------\n",
      "   Comedy / Horror\n",
      "   Farmer Vincent kidnaps unsuspecting travelers and is burying them in his garden. Unfortunately for his victims, they are not dead. He feeds his victims to prepare them for his roadside stand. His motto is: It takes all kinds of critters...to make Farmer Vincent's fritters.\n",
      "   [ SLASHER ]\n",
      "   [ COMEDY-HORROR ]\n",
      "\n",
      "FILM #4777: My Bloody Valentine (1981) \n",
      "---------------------------------------\n",
      "   Horror / Thriller / Mystery\n",
      "   Twenty years ago in the sleepy mining town of Valentine Bluffs, a fatal mining disaster occurred on Valentine's Day while some of the crew was decorating for a party. The sole survivor of the accident killed the remaining crewmembers and warned the town not to celebrate Valentine's Day again. When a group of teenagers decides to defy that order, a murderous maniac in mining gear begins dispatching townsfolk in bloody and creative ways.\n",
      "   [ SLASHER ]\n",
      "\n",
      "FILM #10745: Drive Thru (2007) \n",
      "-------------------------------\n",
      "   Comedy / Horror\n",
      "   Horror gets Super Sized when Horny The Clown, the demonic mascot of \"Hella-Burger,\" starts slashing Orange County teenagers with his meat cleaver from Hell.\n",
      "   [ SLASHER ]\n",
      "   [ COMEDY-HORROR ]\n",
      "\n",
      "FILM #10638: Hatchet (2006) \n",
      "----------------------------\n",
      "   Comedy / Horror\n",
      "   When a group of tourists on a New Orleans haunted swamp tour find themselves stranded in the wilderness, their evening of fun and spooks turns into a horrific nightmare.\n",
      "   [ SLASHER ]\n",
      "   [ COMEDY-HORROR ]\n",
      "\n",
      "FILM #5648: I Know What You Did Last Summer (1997) \n",
      "---------------------------------------------------\n",
      "   Horror / Thriller / Mystery\n",
      "   As they celebrate their high school graduation, four friends are involved in a hit-and-run accident when their car hits and apparently kills a pedestrian on an isolated roadway. They dispose of the body and vow to keep the incident a secret, a year later somebody starts sending them letters bearing the warning \"I Know What You Did Last Summer\".\n",
      "   [ SLASHER ]\n",
      "\n",
      "FILM #4761: Friday the 13th Part 2 (1981) \n",
      "------------------------------------------\n",
      "   Horror / Thriller\n",
      "   Five years after the horrible bloodbath at Camp Crystal Lake, it seems Jason Voorhees and his demented mother are in the past. Paul opens up a new camp close to the infamous site, ignoring warnings to stay away, and a sexually-charged group of counselors follow -- including child psychologist major Ginny. But Jason has been hiding out all this time, and now he's ready for revenge.\n",
      "   [ SLASHER ]\n",
      "\n",
      "FILM #4883: Friday the 13th: The Final Chapter (1984) \n",
      "------------------------------------------------------\n",
      "   Horror\n",
      "   After being mortally wounded and taken to the morgue, murderer Jason Voorhees spontaneously revives and embarks on a killing spree as he makes his way back to his home at Crystal Lake.\n",
      "   [ SLASHER ]\n",
      "\n",
      "FILM #4695: When a Stranger Calls (1979) \n",
      "-----------------------------------------\n",
      "   Horror / Thriller / Drama / Crime / Mystery\n",
      "   A psychopathic killer terrorizes a babysitter, then returns seven years later to menace her again.\n",
      "   [ SLASHER ]\n",
      "\n",
      "FILM #10681: Friday the 13th Part VI: Jason Lives (1986) \n",
      "---------------------------------------------------------\n",
      "   Horror / Mystery / Thriller\n",
      "   Determined to finish off the infamous killer Jason Voorhees once and for all, Tommy Jarvis and a friend exhume Jason’s corpse in order to cremate him. Things go awry when Jason is instead resurrected, sparking a new chain of ruthlessly brutal murders. Now it’s up to Tommy to stop the dark, devious and demented deaths that he unwittingly brought about.\n",
      "   [ SLASHER ]\n",
      "\n",
      "FILM #892: Peeping Tom (1960) \n",
      "------------------------------\n",
      "   Horror / Thriller / Drama\n",
      "   Loner Mark Lewis works at a film studio during the day and, at night, takes racy photographs of women. Also he's making a documentary on fear, which involves recording the reactions of victims as he murders them. He befriends Helen, the daughter of the family living in the apartment below his, and he tells her vaguely about the movie he is making.\n",
      "   [ REJECT ]\n",
      "   [ SLASHER ]\n",
      "\n",
      "FILM #11261: New Year's Evil (1980) \n",
      "------------------------------------\n",
      "   Horror / Thriller\n",
      "   During a New Year's Eve celebration, a punk-rock singer gets a phone call saying that when New Year's strikes in each time zone, someone will be murdered--and she will be the last one.\n",
      "   [ SLASHER ]\n",
      "\n"
     ]
    }
   ],
   "source": [
    "for film in streamable:\n",
    "    print( db.film_summary( film))\n",
    "    print()"
   ]
  }
 ],
 "metadata": {
  "kernelspec": {
   "display_name": "Python 3",
   "language": "python",
   "name": "python3"
  },
  "language_info": {
   "codemirror_mode": {
    "name": "ipython",
    "version": 3
   },
   "file_extension": ".py",
   "mimetype": "text/x-python",
   "name": "python",
   "nbconvert_exporter": "python",
   "pygments_lexer": "ipython3",
   "version": "3.9.1"
  }
 },
 "nbformat": 4,
 "nbformat_minor": 5
}
