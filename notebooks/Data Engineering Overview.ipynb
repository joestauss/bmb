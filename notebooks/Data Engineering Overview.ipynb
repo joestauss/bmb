{
 "cells": [
  {
   "cell_type": "markdown",
   "id": "chief-violin",
   "metadata": {},
   "source": [
    "# Data Engineering Overview\n",
    "\n",
    "The data used in this project flows through three SQLite databases:\n",
    "\n",
    "![Data Flow Diagram](resources/BMBDataFlow.png)\n",
    "\n",
    "* **<font color='red'>Web Data</font>** is collected in the **<font color='red'>Ingestion Database</font>** before being moved to more structured databases downstream.  The exception to this rule is basic **<font color='#008800'>Film Information</font>**, such as genres and descriptions, which are provided by the  TMDb API and loaded directly into the **<font color='#008800'>Processing Database</font>** as needed.\n",
    "\n",
    "* The **<font color='blue'>Personal Movie Database</font>** contains any information unique to me, like whether I've seen a film, my opinion of it, and any tags it has been given.\n",
    "\n",
    "* Any algorithmically-suggested labels (such as $Crime + Mystery + 1940's = Film\\,Noir$) are loaded as **<font color='#008800'>Suggested Tags</font>** into the **<font color='#008800'>Processing Database</font>**.  After being verified or rejected, the are considered **<font color='blue'>Confirmed Tags</font>** and moved to the **<font color='blue'>Personal Movie Database</font>**, where they can be used to refine the labelling algorithms.\n",
    "\n",
    "Each of the databases can be accessed through its own Python class.  These classes all inherit from the same `SQLiteDB` base class."
   ]
  },
  {
   "cell_type": "code",
   "execution_count": 2,
   "id": "closing-spelling",
   "metadata": {},
   "outputs": [],
   "source": [
    "from bmb import IngestionDB, ProcessingDB, WarehouseDB\n",
    "\n",
    "ingestion  = IngestionDB()\n",
    "processing = ProcessingDB()\n",
    "warehouse  = WarehouseDB()"
   ]
  },
  {
   "cell_type": "markdown",
   "id": "smart-military",
   "metadata": {},
   "source": [
    "## Database Tables"
   ]
  },
  {
   "cell_type": "code",
   "execution_count": 19,
   "id": "flush-firmware",
   "metadata": {},
   "outputs": [
    {
     "name": "stdout",
     "output_type": "stream",
     "text": [
      "IngestionDB\n",
      "===========\n",
      "     Streamer (3 rows x 3 columns)\n",
      "     JustwatchFilm (1897 rows x 5 columns)\n",
      "     JustwatchState (1929 rows x 5 columns)\n",
      "     TMDbFilm (4488 rows x 4 columns)\n",
      "     TMDbRecommendation (18229 rows x 2 columns)\n",
      "ProcessingDB\n",
      "============\n",
      "     FilmGenre (22639 rows x 2 columns)\n",
      "     FilmDescription (9753 rows x 2 columns)\n",
      "     FilmCredit (0 rows x 2 columns)\n",
      "     OldRating (9024 rows x 3 columns)\n",
      "     Film (11427 rows x 5 columns)\n",
      "     Genre (19 rows x 2 columns)\n",
      "     Credit (0 rows x 2 columns)\n",
      "     Status (5 rows x 3 columns)\n",
      "     Tag (0 rows x 3 columns)\n",
      "     FilmTag (0 rows x 3 columns)\n",
      "     Metatag (0 rows x 3 columns)\n",
      "     GenreOrdering (19 rows x 3 columns)\n",
      "WarehouseDB\n",
      "===========\n",
      "     FilmGenre (1237 rows x 2 columns)\n",
      "     FilmDescription (462 rows x 2 columns)\n",
      "     FilmCredit (0 rows x 2 columns)\n",
      "     Genre (19 rows x 2 columns)\n",
      "     Credit (0 rows x 2 columns)\n",
      "     Tag (0 rows x 3 columns)\n",
      "     FilmTag (0 rows x 3 columns)\n",
      "     Metatag (0 rows x 3 columns)\n",
      "     Film (462 rows x 4 columns)\n"
     ]
    }
   ],
   "source": [
    "def database_report( db):\n",
    "    # Define SQL Queries for later use.\n",
    "    ALL_TABLES  = \"SELECT DISTINCT tbl_name FROM sqlite_schema\"\n",
    "    GET_COLUMNS = lambda table : f\"PRAGMA table_info({table})\"\n",
    "    ROW_COUNT   = lambda tabld: f\"SELECT COUNT(*) FROM {table}\"\n",
    "    \n",
    "    lines = [ db.__class__.__name__]\n",
    "    lines.append( \"=\"*len( lines[0]) )\n",
    "    \n",
    "    for table in db.get( ALL_TABLES):\n",
    "        if table != \"sqlite_sequence\":\n",
    "            num_cols = len( db.get( GET_COLUMNS( table )))\n",
    "            num_rows = db.get( ROW_COUNT( table), single=True)\n",
    "            lines.append( f\"     {table} ({num_rows} rows x {num_cols} columns)\")\n",
    "    \n",
    "    print( \"\\n\".join( lines))\n",
    "    \n",
    "for db in (ingestion, processing, warehouse):\n",
    "    database_report( db)"
   ]
  }
 ],
 "metadata": {
  "kernelspec": {
   "display_name": "Python 3",
   "language": "python",
   "name": "python3"
  },
  "language_info": {
   "codemirror_mode": {
    "name": "ipython",
    "version": 3
   },
   "file_extension": ".py",
   "mimetype": "text/x-python",
   "name": "python",
   "nbconvert_exporter": "python",
   "pygments_lexer": "ipython3",
   "version": "3.9.1"
  }
 },
 "nbformat": 4,
 "nbformat_minor": 5
}
