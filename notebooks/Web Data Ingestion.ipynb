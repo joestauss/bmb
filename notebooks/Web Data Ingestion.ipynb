{
 "cells": [
  {
   "cell_type": "code",
   "execution_count": 1,
   "id": "formed-allocation",
   "metadata": {},
   "outputs": [],
   "source": [
    "from bmb.source.standard_import import *\n",
    "from bmb                        import IngestionDB\n",
    "from bmb.source.webscraping     import films_available_to_stream\n",
    "from matplotlib                 import pyplot as plt\n",
    "ingestion = IngestionDB()"
   ]
  },
  {
   "cell_type": "markdown",
   "id": "neutral-organizer",
   "metadata": {},
   "source": [
    "# Web Data Ingestion\n",
    "\n",
    "This notebook is used to update \n"
   ]
  },
  {
   "cell_type": "markdown",
   "id": "surgical-authority",
   "metadata": {},
   "source": [
    "## What films are available to stream?\n",
    "\n",
    "### Webscraping the Justwatch Infinite Scroll \n",
    "\n",
    "All data acquisition is handled by the function `films_available_to_stream`, which uses Selenium to traverse the at [Justwatch](https://www.justwatch.com/us/movies).  \n",
    "\n",
    "I will not be providing any webscraping code to the public."
   ]
  },
  {
   "cell_type": "code",
   "execution_count": 2,
   "id": "legitimate-international",
   "metadata": {},
   "outputs": [],
   "source": [
    "Webscrape = namedtuple( \"Webscrape\", \"streamer ymin ymax\")\n",
    "\n",
    "scrapes   = (\n",
    "    Webscrape( \"Netflix\", 1900, 1999),\n",
    "    Webscrape( \"Amazon\" , 1900, 1999),\n",
    "    Webscrape( \"Hulu\"   , 1900, 1999),\n",
    ")\n",
    "\n",
    "available_film_urls = {\n",
    "    scrape : films_available_to_stream( \n",
    "        ingestion.Streamer_key( scrape.streamer),\n",
    "        ymin=scrape.ymin  , \n",
    "        ymax=scrape.ymax  )\n",
    "    for scrape in scrapes }"
   ]
  },
  {
   "cell_type": "markdown",
   "id": "sound-pathology",
   "metadata": {},
   "source": [
    "### Ingesting Webscraping Results\n",
    "\n",
    "This code is divided into two blocks.  This first block holds constants, SQL queries, and a helper function; the second blockactually loads the webscraping result."
   ]
  },
  {
   "cell_type": "code",
   "execution_count": 3,
   "id": "peripheral-display",
   "metadata": {},
   "outputs": [],
   "source": [
    "FILM_TABLE  = \"JustwatchFilm\"\n",
    "STATE_TABLE = \"JustwatchState\"\n",
    "\n",
    "OBSOLETE_STATES = f\"\"\"\n",
    "SELECT \n",
    "    streamer,\n",
    "    film \n",
    "FROM \n",
    "    {STATE_TABLE} sta \n",
    "    JOIN {FILM_TABLE} f ON sta.film = f.id\n",
    "    JOIN Streamer str ON sta.streamer = str.id \n",
    "WHERE \n",
    "    streamer=? \n",
    "    AND f.year >= ? \n",
    "    AND f.year <= ? \n",
    "    AND sta.confirmed !=? \n",
    "    AND removed IS NULL\n",
    "\"\"\"\n",
    "REMOVE_STATE = f\"UPDATE  {STATE_TABLE} SET removed=? WHERE streamer=? AND film=? AND removed IS NULL\"\n",
    "\n",
    "def summary( scrape, urls, not_seen_before, already_ingested, obsolete):\n",
    "    summary = list()\n",
    "    summary.append( f\"{len(urls)} movies are available on {scrape.streamer} from {scrape.ymin}-{scrape.ymax}\")\n",
    "    summary.append( f\"{len(not_seen_before) } are newly stream-able\")\n",
    "    summary.append( f\"{len(already_ingested)} were previously located on a streaming service\")\n",
    "    summary.append( f\"{len(obsolete)} films are no longer streamable and were marked as inactive\")\n",
    "    return \"\\n\".join( summary )"
   ]
  },
  {
   "cell_type": "code",
   "execution_count": 4,
   "id": "handmade-russian",
   "metadata": {
    "scrolled": true
   },
   "outputs": [
    {
     "name": "stdout",
     "output_type": "stream",
     "text": [
      "206 movies are available on Netflix from 1900-1999\n",
      "1 are newly stream-able\n",
      "205 were previously located on a streaming service\n",
      "0 films are no longer streamable and were marked as inactive\n",
      "\n",
      "1548 movies are available on Amazon from 1900-1999\n",
      "16 are newly stream-able\n",
      "1532 were previously located on a streaming service\n",
      "8 films are no longer streamable and were marked as inactive\n",
      "\n",
      "151 movies are available on Hulu from 1900-1999\n",
      "0 are newly stream-able\n",
      "151 were previously located on a streaming service\n",
      "0 films are no longer streamable and were marked as inactive\n"
     ]
    }
   ],
   "source": [
    "summaries = list()\n",
    "for scrape, urls in available_film_urls.items():\n",
    "    \n",
    "    #  Initialize variables.\n",
    "    streamer_id      = ingestion.id( \"Streamer\", scrape.streamer)\n",
    "    date_str         = ingestion.date_str\n",
    "    already_ingested = *( url for url in urls if     ingestion.id( FILM_TABLE, url) ),\n",
    "    not_seen_before  = *( url for url in urls if not ingestion.id( FILM_TABLE, url) ),\n",
    "    \n",
    "    # Confirm active streams.\n",
    "    for url in urls:\n",
    "        ingestion.confirm_active_stream( streamer_id, ingestion.JustwatchFilm( url), date_str)\n",
    "    \n",
    "    # If any films are no longer listed for streaming; remove them as obsolete. \n",
    "    obsolete = ingestion.get( OBSOLETE_STATES, streamer_id, scrape.ymin, scrape.ymax, date_str)\n",
    "    for streamer, film in obsolete:\n",
    "        ingestion.set( REMOVE_STATE, date_str, streamer, film)\n",
    "    \n",
    "    # Prepare human-readable summary.\n",
    "    summaries.append( summary( scrape, urls, not_seen_before, already_ingested, obsolete))\n",
    "    \n",
    "print( \"\\n\\n\".join( summaries))"
   ]
  },
  {
   "cell_type": "markdown",
   "id": "whole-python",
   "metadata": {},
   "source": [
    "### Identifying Films from URLS"
   ]
  },
  {
   "cell_type": "markdown",
   "id": "descending-railway",
   "metadata": {},
   "source": [
    "The `IngestionDB.identify_all_JustwatchFilm_URLs` method uses BeatifulSoup to read the title and release year of each film.  This is all the information that `IngestionDB` collects on the films; this database does not even verify that the title-year combinations it ingests represent actual films."
   ]
  },
  {
   "cell_type": "code",
   "execution_count": 5,
   "id": "retired-hydrogen",
   "metadata": {},
   "outputs": [
    {
     "name": "stdout",
     "output_type": "stream",
     "text": [
      "17 Justwatch URL(s) in the database are unexplored.\n"
     ]
    },
    {
     "data": {
      "application/vnd.jupyter.widget-view+json": {
       "model_id": "095e21dbef5d4069adcc6d10d3a21bd1",
       "version_major": 2,
       "version_minor": 0
      },
      "text/plain": [
       "  0%|          | 0/17 [00:00<?, ?it/s]"
      ]
     },
     "metadata": {},
     "output_type": "display_data"
    },
    {
     "name": "stdout",
     "output_type": "stream",
     "text": [
      "0 Justwatch URL(s) in the database are unexplored.\n"
     ]
    }
   ],
   "source": [
    "def print_unknown_url_count():\n",
    "    QUERY = f\"SELECT url FROM {FILM_TABLE} WHERE title IS Null;\"\n",
    "    print( f\"{len(ingestion.get( QUERY))} Justwatch URL(s) in the database are unexplored.\")\n",
    "    \n",
    "print_unknown_url_count()\n",
    "ingestion.identify_all_JustwatchFilm_URLs(VERBOSE='jupyter')\n",
    "print_unknown_url_count()"
   ]
  },
  {
   "attachments": {
    "image.png": {
     "image/png": "[encoded data removed]"
    }
   },
   "cell_type": "markdown",
   "id": "introductory-singapore",
   "metadata": {},
   "source": [
    "**The codeblock above will usually show zero unexplored URLs.**  Here is an example of the output when there is data to find:\n",
    "\n",
    "![image.png](attachment:image.png)"
   ]
  },
  {
   "cell_type": "markdown",
   "id": "willing-cricket",
   "metadata": {},
   "source": [
    "### Visualization"
   ]
  },
  {
   "cell_type": "code",
   "execution_count": 6,
   "id": "tropical-kernel",
   "metadata": {
    "scrolled": false
   },
   "outputs": [
    {
     "data": {
      "image/png": "[encoded data removed]",
      "text/plain": [
       "<Figure size 432x288 with 1 Axes>"
      ]
     },
     "metadata": {},
     "output_type": "display_data"
    }
   ],
   "source": [
    "pie_values = defaultdict( lambda: 0)\n",
    "films = ingestion.select( \"id\", \"JustwatchFilm\")\n",
    "\n",
    "for film_id in films:\n",
    "    QUERY = \"SELECT s.name FROM JustwatchState jw JOIN Streamer s ON jw.streamer = s.id WHERE jw.film=?\"\n",
    "    locations = ingestion.get( QUERY, film_id)\n",
    "    \n",
    "    if len( locations) > 1:\n",
    "        key = \"multiple locations\"\n",
    "    elif len( locations) == 1:\n",
    "        key = locations[0]\n",
    "    elif not locations:\n",
    "        key = \"not available\"\n",
    "    pie_values[ key] += 1\n",
    "    \n",
    "labels, values = list(), list()\n",
    "for l, v in pie_values.items():\n",
    "    labels.append( l)\n",
    "    values.append( v)\n",
    "    \n",
    "plt.pie( values, labels=labels)\n",
    "plt.show()"
   ]
  },
  {
   "cell_type": "markdown",
   "id": "applied-shannon",
   "metadata": {},
   "source": [
    "# Loading Film Data to the Processing Database"
   ]
  },
  {
   "cell_type": "code",
   "execution_count": 7,
   "id": "wired-heater",
   "metadata": {},
   "outputs": [
    {
     "data": {
      "application/vnd.jupyter.widget-view+json": {
       "model_id": "4c03dc4d51e547a7817723ce69bc542b",
       "version_major": 2,
       "version_minor": 0
      },
      "text/plain": [
       "  0%|          | 0/17 [00:00<?, ?it/s]"
      ]
     },
     "metadata": {},
     "output_type": "display_data"
    },
    {
     "data": {
      "image/png": "[encoded data removed]",
      "text/plain": [
       "<Figure size 432x288 with 1 Axes>"
      ]
     },
     "metadata": {},
     "output_type": "display_data"
    }
   ],
   "source": [
    "from bmb import ProcessingDB\n",
    "\n",
    "processing = ProcessingDB()\n",
    "\n",
    "streamable_films = ingestion.select( 'title', 'year', \"JustwatchFilm\")\n",
    "    \n",
    "for title, year in streamable_films:\n",
    "    processing.Film( title, year)\n",
    "    \n",
    "for film_id in jupyter_aware_tqdm( processing.unverified_films,  VERBOSE='jupyter'):\n",
    "    processing.lookup_film_info( film_id)\n",
    "    \n",
    "QUERY = \"\"\"\n",
    "SELECT s.text, COUNT( f.id) as cnt\n",
    "FROM Film f JOIN Status s ON f.status=s.id\n",
    "GROUP BY f.status\n",
    "ORDER BY cnt DESC\n",
    "\"\"\"\n",
    "\n",
    "labels, values = zip( *processing.get( QUERY))\n",
    "plt.pie( values, labels=labels)\n",
    "plt.show()"
   ]
  }
 ],
 "metadata": {
  "kernelspec": {
   "display_name": "Python 3",
   "language": "python",
   "name": "python3"
  },
  "language_info": {
   "codemirror_mode": {
    "name": "ipython",
    "version": 3
   },
   "file_extension": ".py",
   "mimetype": "text/x-python",
   "name": "python",
   "nbconvert_exporter": "python",
   "pygments_lexer": "ipython3",
   "version": "3.9.1"
  }
 },
 "nbformat": 4,
 "nbformat_minor": 5
}
