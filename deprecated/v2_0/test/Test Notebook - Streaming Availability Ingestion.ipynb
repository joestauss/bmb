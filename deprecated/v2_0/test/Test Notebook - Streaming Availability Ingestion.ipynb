{
 "cells": [
  {
   "cell_type": "markdown",
   "id": "satisfied-interest",
   "metadata": {},
   "source": [
    "# Ingestion Test - Streaming Availability"
   ]
  },
  {
   "cell_type": "code",
   "execution_count": 1,
   "id": "destroyed-opinion",
   "metadata": {},
   "outputs": [],
   "source": [
    "from bmb.test.test_util import _temp_copy, PATH_TO_TEST_DB\n",
    "from bmb.source.FilmDB  import FilmDB\n",
    "import pandas as pd\n",
    "import sqlite3"
   ]
  },
  {
   "cell_type": "markdown",
   "id": "accompanied-reward",
   "metadata": {},
   "source": [
    "## Create Temporary Test Database\n",
    "Like all tests, the Steaming Availability Ingestion Test uses a temporary test database (TTD) to avoid interference between tests."
   ]
  },
  {
   "cell_type": "code",
   "execution_count": 2,
   "id": "exotic-commerce",
   "metadata": {},
   "outputs": [],
   "source": [
    "temporary_test_database = _temp_copy(PATH_TO_TEST_DB, unique=True)\n",
    "db = FilmDB( temporary_test_database)"
   ]
  },
  {
   "cell_type": "markdown",
   "id": "alternate-roman",
   "metadata": {},
   "source": [
    "The `show_log` function displays the webscraping history for this TTD and will be called before and after the streaming availability update operations to demonstrate changes to the `JustWatchLog` table."
   ]
  },
  {
   "cell_type": "code",
   "execution_count": 3,
   "id": "australian-howard",
   "metadata": {},
   "outputs": [
    {
     "data": {
      "text/html": [
       "<div>\n",
       "<style scoped>\n",
       "    .dataframe tbody tr th:only-of-type {\n",
       "        vertical-align: middle;\n",
       "    }\n",
       "\n",
       "    .dataframe tbody tr th {\n",
       "        vertical-align: top;\n",
       "    }\n",
       "\n",
       "    .dataframe thead th {\n",
       "        text-align: right;\n",
       "    }\n",
       "</style>\n",
       "<table border=\"1\" class=\"dataframe\">\n",
       "  <thead>\n",
       "    <tr style=\"text-align: right;\">\n",
       "      <th></th>\n",
       "      <th>streamer</th>\n",
       "      <th>start_year</th>\n",
       "      <th>end_year</th>\n",
       "      <th>genre</th>\n",
       "      <th>total</th>\n",
       "      <th>new</th>\n",
       "      <th>completed</th>\n",
       "    </tr>\n",
       "  </thead>\n",
       "  <tbody>\n",
       "  </tbody>\n",
       "</table>\n",
       "</div>"
      ],
      "text/plain": [
       "Empty DataFrame\n",
       "Columns: [streamer, start_year, end_year, genre, total, new, completed]\n",
       "Index: []"
      ]
     },
     "execution_count": 3,
     "metadata": {},
     "output_type": "execute_result"
    }
   ],
   "source": [
    "def show_log():\n",
    "    conn = sqlite3.connect(temporary_test_database)\n",
    "    df = pd.read_sql_query(\"SELECT * FROM JustWatchLog\", conn)\n",
    "    conn.close()\n",
    "    return df\n",
    "show_log()"
   ]
  },
  {
   "cell_type": "markdown",
   "id": "friendly-papua",
   "metadata": {},
   "source": [
    "## Streaming Availability Update Operations\n",
    "`FilmDB.update_streaming_content` records the raw JustWatchURLs, but does not identify the films to which they point, necessitating the final `FilmDB.identify_new_JustWatchURLs` call."
   ]
  },
  {
   "cell_type": "code",
   "execution_count": 4,
   "id": "accepting-husband",
   "metadata": {},
   "outputs": [
    {
     "data": {
      "application/vnd.jupyter.widget-view+json": {
       "model_id": "08dbdb236e6347d8a7af63b4087deeed",
       "version_major": 2,
       "version_minor": 0
      },
      "text/plain": [
       "  0%|          | 0/174 [00:00<?, ?it/s]"
      ]
     },
     "metadata": {},
     "output_type": "display_data"
    }
   ],
   "source": [
    "db.update_streaming_content( 'hulu'   , ymax=2000, genre='horror' )\n",
    "db.update_streaming_content( 'netflix', ymin=1999, ymax=1999)\n",
    "db.update_streaming_content( 'amazon' , ymin=1980, ymax=2000, genre='horror' )\n",
    "db.update_streaming_content( 'amazon' , ymin=1980, ymax=2000, genre='science fiction' )\n",
    "db.identify_new_JustWatchURLs( VERBOSE='jupyter')"
   ]
  },
  {
   "cell_type": "markdown",
   "id": "willing-measurement",
   "metadata": {},
   "source": [
    "Calling the `show_log` function a second time provides examples of the data recorded for each webscrape."
   ]
  },
  {
   "cell_type": "code",
   "execution_count": 5,
   "id": "nuclear-batch",
   "metadata": {},
   "outputs": [
    {
     "data": {
      "text/html": [
       "<div>\n",
       "<style scoped>\n",
       "    .dataframe tbody tr th:only-of-type {\n",
       "        vertical-align: middle;\n",
       "    }\n",
       "\n",
       "    .dataframe tbody tr th {\n",
       "        vertical-align: top;\n",
       "    }\n",
       "\n",
       "    .dataframe thead th {\n",
       "        text-align: right;\n",
       "    }\n",
       "</style>\n",
       "<table border=\"1\" class=\"dataframe\">\n",
       "  <thead>\n",
       "    <tr style=\"text-align: right;\">\n",
       "      <th></th>\n",
       "      <th>streamer</th>\n",
       "      <th>start_year</th>\n",
       "      <th>end_year</th>\n",
       "      <th>genre</th>\n",
       "      <th>total</th>\n",
       "      <th>new</th>\n",
       "      <th>completed</th>\n",
       "    </tr>\n",
       "  </thead>\n",
       "  <tbody>\n",
       "    <tr>\n",
       "      <th>0</th>\n",
       "      <td>3</td>\n",
       "      <td>NaN</td>\n",
       "      <td>2000</td>\n",
       "      <td>horror</td>\n",
       "      <td>21</td>\n",
       "      <td>21</td>\n",
       "      <td>2021-10-23 13:49</td>\n",
       "    </tr>\n",
       "    <tr>\n",
       "      <th>1</th>\n",
       "      <td>1</td>\n",
       "      <td>1999.0</td>\n",
       "      <td>1999</td>\n",
       "      <td>None</td>\n",
       "      <td>15</td>\n",
       "      <td>15</td>\n",
       "      <td>2021-10-23 13:49</td>\n",
       "    </tr>\n",
       "    <tr>\n",
       "      <th>2</th>\n",
       "      <td>2</td>\n",
       "      <td>1980.0</td>\n",
       "      <td>2000</td>\n",
       "      <td>horror</td>\n",
       "      <td>93</td>\n",
       "      <td>93</td>\n",
       "      <td>2021-10-23 13:50</td>\n",
       "    </tr>\n",
       "    <tr>\n",
       "      <th>3</th>\n",
       "      <td>2</td>\n",
       "      <td>1980.0</td>\n",
       "      <td>2000</td>\n",
       "      <td>science fiction</td>\n",
       "      <td>65</td>\n",
       "      <td>48</td>\n",
       "      <td>2021-10-23 13:50</td>\n",
       "    </tr>\n",
       "  </tbody>\n",
       "</table>\n",
       "</div>"
      ],
      "text/plain": [
       "   streamer  start_year  end_year            genre  total  new  \\\n",
       "0         3         NaN      2000           horror     21   21   \n",
       "1         1      1999.0      1999             None     15   15   \n",
       "2         2      1980.0      2000           horror     93   93   \n",
       "3         2      1980.0      2000  science fiction     65   48   \n",
       "\n",
       "          completed  \n",
       "0  2021-10-23 13:49  \n",
       "1  2021-10-23 13:49  \n",
       "2  2021-10-23 13:50  \n",
       "3  2021-10-23 13:50  "
      ]
     },
     "execution_count": 5,
     "metadata": {},
     "output_type": "execute_result"
    }
   ],
   "source": [
    "show_log()"
   ]
  },
  {
   "cell_type": "markdown",
   "id": "objective-scenario",
   "metadata": {},
   "source": [
    "## DestroyTemporary Test Database"
   ]
  },
  {
   "cell_type": "code",
   "execution_count": 6,
   "id": "gorgeous-brown",
   "metadata": {},
   "outputs": [],
   "source": [
    "temporary_test_database.unlink()"
   ]
  }
 ],
 "metadata": {
  "kernelspec": {
   "display_name": "Python 3",
   "language": "python",
   "name": "python3"
  },
  "language_info": {
   "codemirror_mode": {
    "name": "ipython",
    "version": 3
   },
   "file_extension": ".py",
   "mimetype": "text/x-python",
   "name": "python",
   "nbconvert_exporter": "python",
   "pygments_lexer": "ipython3",
   "version": "3.9.1"
  }
 },
 "nbformat": 4,
 "nbformat_minor": 5
}
